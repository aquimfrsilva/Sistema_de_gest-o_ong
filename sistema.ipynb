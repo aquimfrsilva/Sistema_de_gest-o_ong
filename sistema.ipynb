{
  "nbformat": 4,
  "nbformat_minor": 0,
  "metadata": {
    "colab": {
      "provenance": [],
      "authorship_tag": "ABX9TyPU3zUKbwyyNBOKs+AX7d/5",
      "include_colab_link": true
    },
    "kernelspec": {
      "name": "python3",
      "display_name": "Python 3"
    },
    "language_info": {
      "name": "python"
    }
  },
  "cells": [
    {
      "cell_type": "markdown",
      "metadata": {
        "id": "view-in-github",
        "colab_type": "text"
      },
      "source": [
        "<a href=\"https://colab.research.google.com/github/aquimfrsilva/Sistema_de_gest-o_ong/blob/main/sistema.ipynb\" target=\"_parent\"><img src=\"https://colab.research.google.com/assets/colab-badge.svg\" alt=\"Open In Colab\"/></a>"
      ]
    },
    {
      "cell_type": "code",
      "execution_count": null,
      "metadata": {
        "colab": {
          "base_uri": "https://localhost:8080/"
        },
        "id": "BygGyn-mdude",
        "outputId": "d23e0b40-0e8b-4127-c3af-51354d050f66"
      },
      "outputs": [
        {
          "name": "stdout",
          "output_type": "stream",
          "text": [
            "\n",
            "=== MENU USUÁRIOS ===\n",
            "1. Cadastrar novo usuário\n",
            "2. Listar todos os usuários\n",
            "3. Remover usuário\n",
            "4. Voltar\n",
            "Escolha uma opção: 4\n"
          ]
        }
      ],
      "source": [
        "# usuarios.py\n",
        "usuarios = [\n",
        "    {\"id\": 1, \"nome\": \"Joaquim Felipe\", \"email\": \"jocas@ong.org\", \"tipo\": \"Admin\"},\n",
        "    {\"id\": 2, \"nome\": \"Maria Souza\", \"email\": \"maria@ong.org\", \"tipo\": \"Voluntária\"},\n",
        "    {\"id\": 3, \"nome\": \"Felipe Costa\", \"email\": \"felipe12@ong.org\", \"tipo\": \"Doador\"},\n",
        "    {\"id\": 4, \"nome\": \"Diego Sanchez\", \"email\": \"diego.sez@ong.org\", \"tipo\": \"Voluntário\"}\n",
        "]\n",
        "\n",
        "def menu_usuarios():\n",
        "    while True:\n",
        "        print(\"\\n=== MENU USUÁRIOS ===\")\n",
        "        print(\"1. Cadastrar novo usuário\")\n",
        "        print(\"2. Listar todos os usuários\")\n",
        "        print(\"3. Remover usuário\")\n",
        "        print(\"4. Voltar\")\n",
        "\n",
        "        opcao = input(\"Escolha uma opção: \")\n",
        "\n",
        "        if opcao == \"1\":\n",
        "            novo_id = len(usuarios) + 1\n",
        "            nome = input(\"Nome: \")\n",
        "            email = input(\"Email: \")\n",
        "            tipo = input(\"Tipo: \")\n",
        "\n",
        "            usuarios.append({\"id\": novo_id, \"nome\": nome, \"email\": email, \"tipo\": tipo})\n",
        "            print(\"Usuário cadastrado com sucesso!\")\n",
        "\n",
        "        elif opcao == \"2\":\n",
        "            print(\"\\n=== LISTA DE USUÁRIOS ===\")\n",
        "            for user in usuarios:\n",
        "                print(f\"ID: {user['id']} | Nome: {user['nome']} | Email: {user['email']} | Tipo: {user['tipo']}\")\n",
        "\n",
        "        elif opcao == \"3\":\n",
        "            id_remover = int(input(\"Digite o ID do usuário a remover: \"))\n",
        "            for user in usuarios[:]:\n",
        "                if user[\"id\"] == id_remover:\n",
        "                    usuarios.remove(user)\n",
        "                    print(\"Usuário removido com sucesso!\")\n",
        "                    break\n",
        "            else:\n",
        "                print(\"Usuário não encontrado!\")\n",
        "\n",
        "        elif opcao == \"4\":\n",
        "            break\n",
        "\n",
        "        else:\n",
        "            print(\"Opção inválida!\")\n",
        "\n",
        "if __name__ == \"__main__\":\n",
        "    menu_usuarios()"
      ]
    },
    {
      "cell_type": "code",
      "source": [
        "# voluntarios.py\n",
        "voluntarios = [\n",
        "    {\"id\": 1, \"nome\": \"Carlos Oliveira\", \"telefone\": \"(11) 9999-8888\", \"email\": \"carlos@ong.org\"},\n",
        "    {\"id\": 2, \"nome\": \"Ana Santos\", \"telefone\": \"(21) 9888-7777\", \"email\": \"ana@ong.org\"},\n",
        "    {\"id\": 3, \"nome\": \"Neymar Junior\", \"telefone\": \"(41) 9666-5555\", \"email\": \"ney.jr@ong.org\"}\n",
        "]\n",
        "def menu_voluntarios():\n",
        "    while True:\n",
        "        print(\"\\n=== MENU VOLUNTÁRIOS ===\")\n",
        "        print(\"1. Cadastrar novo voluntário\")\n",
        "        print(\"2. Listar todos os voluntários\")\n",
        "        print(\"3. Remover voluntário\")\n",
        "        print(\"4. Voltar\")\n",
        "\n",
        "        opcao = input(\"Escolha uma opção: \")\n",
        "\n",
        "        if opcao == \"1\":\n",
        "            novo_id = len(voluntarios) + 1\n",
        "            nome = input(\"Nome: \")\n",
        "            telefone = input(\"Telefone: \")\n",
        "            email = input(\"Email: \")\n",
        "\n",
        "            voluntarios.append({\"id\": novo_id, \"nome\": nome, \"telefone\": telefone, \"email\": email})\n",
        "            print(\" Voluntário cadastrado com sucesso!\")\n",
        "\n",
        "        elif opcao == \"2\":\n",
        "            print(\"\\n=== LISTA DE VOLUNTÁRIOS ===\")\n",
        "            for vol in voluntarios:\n",
        "                print(f\"ID: {vol['id']} | Nome: {vol['nome']} | Telefone: {vol['telefone']} | Email: {vol['email']}\")\n",
        "\n",
        "        elif opcao == \"3\":\n",
        "            id_remover = int(input(\"Digite o ID do voluntário a remover: \"))\n",
        "            for vol in voluntarios[:]:\n",
        "                if vol[\"id\"] == id_remover:\n",
        "                    voluntarios.remove(vol)\n",
        "                    print(\" Voluntário removido com sucesso!\")\n",
        "                    break\n",
        "            else:\n",
        "                print(\" Voluntário não encontrado!\")\n",
        "\n",
        "        elif opcao == \"4\":\n",
        "            break\n",
        "\n",
        "        else:\n",
        "            print(\"Opção inválida!\")\n",
        "\n",
        "if __name__ == \"__main__\":\n",
        "    menu_voluntarios()"
      ],
      "metadata": {
        "colab": {
          "base_uri": "https://localhost:8080/"
        },
        "id": "E-RhzOoZgm7t",
        "outputId": "a2e36518-98cd-4045-8403-508453537411"
      },
      "execution_count": null,
      "outputs": [
        {
          "name": "stdout",
          "output_type": "stream",
          "text": [
            "\n",
            "=== MENU VOLUNTÁRIOS ===\n",
            "1. Cadastrar novo voluntário\n",
            "2. Listar todos os voluntários\n",
            "3. Remover voluntário\n",
            "4. Voltar\n",
            "Escolha uma opção: 4\n"
          ]
        }
      ]
    },
    {
      "cell_type": "code",
      "source": [
        "# categorias.py\n",
        "categorias = [\n",
        "    {\"id\": 1, \"nome\": \"Doação\", \"descricao\": \"Arrecadação de recursos\", \"cor\": \"Laranja\"},\n",
        "    {\"id\": 2, \"nome\": \"Educação\", \"descricao\": \"Aulas e treinamentos\", \"cor\": \"Ciano\"},\n",
        "    {\"id\": 3, \"nome\": \"Administração\", \"descricao\": \"Gestão de recusos\", \"cor\": \"Preto\"}\n",
        "]\n",
        "def menu_categorias():\n",
        "    while True:\n",
        "        print(\"\\n=== MENU CATEGORIAS ===\")\n",
        "        print(\"1. Cadastrar nova categoria\")\n",
        "        print(\"2. Listar todas as categorias\")\n",
        "        print(\"3. Remover categoria\")\n",
        "        print(\"4. Voltar\")\n",
        "\n",
        "        opcao = input(\"Escolha uma opção: \")\n",
        "\n",
        "        if opcao == \"1\":\n",
        "            novo_id = len(categorias) + 1\n",
        "            nome = input(\"Nome da categoria: \")\n",
        "            descricao = input(\"Descrição: \")\n",
        "            cor = input(\"Cor: \")\n",
        "\n",
        "            categorias.append({\"id\": novo_id, \"nome\": nome, \"descricao\": descricao, \"cor\": cor})\n",
        "            print(\"Categoria cadastrada com sucesso!\")\n",
        "\n",
        "        elif opcao == \"2\":\n",
        "            print(\"\\n=== LISTA DE CATEGORIAS ===\")\n",
        "            for cat in categorias:\n",
        "                print(f\"ID: {cat['id']} | Nome: {cat['nome']} | Descrição: {cat['descricao']} | Cor: {cat['cor']}\")\n",
        "\n",
        "        elif opcao == \"3\":\n",
        "            id_remover = int(input(\"Digite o ID da categoria a remover: \"))\n",
        "            for cat in categorias[:]:\n",
        "                if cat[\"id\"] == id_remover:\n",
        "                    categorias.remove(cat)\n",
        "                    print(\"Categoria removida com sucesso!\")\n",
        "                    break\n",
        "            else:\n",
        "                print(\"Categoria não encontrada!\")\n",
        "\n",
        "        elif opcao == \"4\":\n",
        "            break\n",
        "\n",
        "        else:\n",
        "            print(\"Opção inválida!\")\n",
        "\n",
        "if __name__ == \"__main__\":\n",
        "    menu_categorias()"
      ],
      "metadata": {
        "colab": {
          "base_uri": "https://localhost:8080/"
        },
        "id": "0qXDTbLpgsuG",
        "outputId": "a071b618-2ed6-40f7-e4c8-4c2888393a7f"
      },
      "execution_count": null,
      "outputs": [
        {
          "name": "stdout",
          "output_type": "stream",
          "text": [
            "\n",
            "=== MENU CATEGORIAS ===\n",
            "1. Cadastrar nova categoria\n",
            "2. Listar todas as categorias\n",
            "3. Remover categoria\n",
            "4. Voltar\n",
            "Escolha uma opção: 4\n"
          ]
        }
      ]
    }
  ]
}